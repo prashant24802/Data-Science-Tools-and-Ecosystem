{
 "cells": [
  {
   "cell_type": "markdown",
   "id": "2f13dc64",
   "metadata": {},
   "source": [
    "# Data Science Tools and Ecosystem"
   ]
  },
  {
   "cell_type": "markdown",
   "id": "218e9895",
   "metadata": {},
   "source": [
    "## In this notebook, Data Science Tools and Ecosystem are Summarised."
   ]
  },
  {
   "cell_type": "markdown",
   "id": "b8255949",
   "metadata": {},
   "source": [
    "## Objectives:\n",
    "- Popular language Data Scientist use\n",
    "- Commonly used libraries in data science.\n",
    "- Data Science Tools.\n",
    "- Example of evaluating arithmetic Expession.\n",
    "- Converting Minutes into Hours"
   ]
  },
  {
   "cell_type": "markdown",
   "id": "e0f355f2",
   "metadata": {},
   "source": [
    "## Some of the popular languages that Data Scientist use are:\n",
    "### 1. Python\n",
    "### 2. R\n",
    "### 3. Scala"
   ]
  },
  {
   "cell_type": "markdown",
   "id": "38129b17",
   "metadata": {},
   "source": [
    "## Some of the commonly used libraries used by Data Scientist include:\n",
    "### 1. Pandas\n",
    "### 2. Numpy\n",
    "### 3. Scipy"
   ]
  },
  {
   "cell_type": "markdown",
   "id": "d5b10dea",
   "metadata": {},
   "source": [
    "| Data Science Tools | \n",
    "| -------------------|\n",
    "| Hadoop |\n",
    "| TensorFlow |\n",
    "| Pandas |"
   ]
  },
  {
   "cell_type": "markdown",
   "id": "17642bcc",
   "metadata": {},
   "source": [
    "### Below are a few examples of evaluating arithmetic expressions in python"
   ]
  },
  {
   "cell_type": "code",
   "execution_count": 4,
   "id": "2dd857db",
   "metadata": {},
   "outputs": [
    {
     "data": {
      "text/plain": [
       "47"
      ]
     },
     "execution_count": 4,
     "metadata": {},
     "output_type": "execute_result"
    }
   ],
   "source": [
    "# This is a Arithmetic expression to multiply then add integers\n",
    "(9*4)+11"
   ]
  },
  {
   "cell_type": "code",
   "execution_count": 5,
   "id": "c85d185a",
   "metadata": {},
   "outputs": [
    {
     "data": {
      "text/plain": [
       "3.3333333333333335"
      ]
     },
     "execution_count": 5,
     "metadata": {},
     "output_type": "execute_result"
    }
   ],
   "source": [
    "# This will convert 200 minutes to hours\n",
    "200/60"
   ]
  },
  {
   "cell_type": "markdown",
   "id": "60a3facd",
   "metadata": {},
   "source": [
    "## Author\n",
    "Prashant Yadav"
   ]
  },
  {
   "cell_type": "code",
   "execution_count": null,
   "id": "f993327b",
   "metadata": {},
   "outputs": [],
   "source": []
  }
 ],
 "metadata": {
  "kernelspec": {
   "display_name": "Python 3 (ipykernel)",
   "language": "python",
   "name": "python3"
  },
  "language_info": {
   "codemirror_mode": {
    "name": "ipython",
    "version": 3
   },
   "file_extension": ".py",
   "mimetype": "text/x-python",
   "name": "python",
   "nbconvert_exporter": "python",
   "pygments_lexer": "ipython3",
   "version": "3.9.13"
  }
 },
 "nbformat": 4,
 "nbformat_minor": 5
}
